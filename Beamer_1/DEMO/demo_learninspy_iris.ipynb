{
 "cells": [
  {
   "cell_type": "markdown",
   "metadata": {},
   "source": [
    "**Learninspy**\n",
    "============\n",
    "<img style=\"display: inline;\" src=\"img/Learninspy-logo_grande.png\" width=\"300\" />\n",
    "\n",
    "*Deep Learning in Spark, with Python*\n",
    "\n",
    "\n",
    "\"\"\"Ejemplos de uso para entrenar redes neuronales con Learninspy utilizando datos de Iris (clasificación).\"\"\""
   ]
  },
  {
   "cell_type": "markdown",
   "metadata": {},
   "source": [
    "### Dependencias"
   ]
  },
  {
   "cell_type": "code",
   "execution_count": 1,
   "metadata": {
    "collapsed": false
   },
   "outputs": [
    {
     "name": "stderr",
     "output_type": "stream",
     "text": [
      "2017-03-04 19:29:38,181 - learninspy.context - INFO - Contexto de Spark inicializado.\n"
     ]
    }
   ],
   "source": [
    "import os\n",
    "import logging\n",
    "reload(logging)  # Jupyter bug (duplicated logging output)\n",
    "\n",
    "from learninspy.core.model import NeuralNetwork, NetworkParameters\n",
    "from learninspy.core.optimization import OptimizerParameters\n",
    "from learninspy.core.stops import criterion\n",
    "from learninspy.utils.data import LocalLabeledDataSet, load_iris\n",
    "from learninspy.utils.evaluation import ClassificationMetrics\n",
    "from learninspy.utils.plots import plot_fitting, plot_confusion_matrix\n",
    "from learninspy.utils.fileio import get_logger\n",
    "\n",
    "logger = get_logger(name='learninspy-ejemplo_iris')\n",
    "\n",
    "%matplotlib inline"
   ]
  },
  {
   "cell_type": "markdown",
   "metadata": {},
   "source": [
    "<h2><center> #-- 1) Carga de datos --# </center></h2>"
   ]
  },
  {
   "cell_type": "code",
   "execution_count": 2,
   "metadata": {
    "collapsed": false
   },
   "outputs": [
    {
     "name": "stderr",
     "output_type": "stream",
     "text": [
      "2017-03-04 19:29:54,583 - learninspy-ejemplo_iris - INFO - Cargando datos de Iris ...\n",
      "2017-03-04 19:29:54,599 - learninspy-ejemplo_iris - INFO - Dimension de datos: 150 x 4\n"
     ]
    }
   ],
   "source": [
    "logger.info(\"Cargando datos de Iris ...\")\n",
    "dataset = load_iris()\n",
    "dataset = LocalLabeledDataSet(dataset)\n",
    "rows, cols = dataset.shape\n",
    "logger.info(\"Dimension de datos: %i x %i\", rows, cols)\n",
    "\n",
    "train, valid, test = dataset.split_data([0.7, 0.1, 0.2])  # Particiono en conjuntos"
   ]
  },
  {
   "cell_type": "code",
   "execution_count": 3,
   "metadata": {
    "collapsed": false
   },
   "outputs": [
    {
     "data": {
      "text/plain": [
       "[LabeledPoint(0.0, [5.0,3.5,1.3,0.3]),\n",
       " LabeledPoint(1.0, [6.7,3.1,4.4,1.4]),\n",
       " LabeledPoint(2.0, [6.2,3.4,5.4,2.3]),\n",
       " LabeledPoint(0.0, [4.4,2.9,1.4,0.2]),\n",
       " LabeledPoint(1.0, [5.6,3.0,4.1,1.3]),\n",
       " LabeledPoint(1.0, [6.3,2.5,4.9,1.5]),\n",
       " LabeledPoint(2.0, [6.0,2.2,5.0,1.5]),\n",
       " LabeledPoint(1.0, [5.8,2.6,4.0,1.2]),\n",
       " LabeledPoint(2.0, [6.7,3.1,5.6,2.4]),\n",
       " LabeledPoint(2.0, [7.7,3.0,6.1,2.3])]"
      ]
     },
     "execution_count": 3,
     "metadata": {},
     "output_type": "execute_result"
    }
   ],
   "source": [
    "train.data[:10]"
   ]
  },
  {
   "cell_type": "markdown",
   "metadata": {},
   "source": [
    "<h2><center> #-- 2) Configuración y diseño --# </center></h2>"
   ]
  },
  {
   "cell_type": "code",
   "execution_count": 4,
   "metadata": {
    "collapsed": false
   },
   "outputs": [
    {
     "name": "stderr",
     "output_type": "stream",
     "text": [
      "2017-03-04 19:31:44,365 - learninspy-ejemplo_iris - INFO - Optimizacion utilizada: \n",
      "The algorithm used is Adadelta with the next parameters:\n",
      "offset: 1e-08\n",
      "step-rate: 1.0\n",
      "momentum: 0.7\n",
      "decay: 0.99\n",
      "The stop criteria used for optimization is: \n",
      "Stop at a maximum of 10 iterations.\n",
      "Stop when a tolerance of 0.95 is achieved/exceeded in hits.\n",
      "\n",
      "2017-03-04 19:31:44,366 - learninspy-ejemplo_iris - INFO - Configuracion usada: \n",
      "Layer 0 with 4 neurons connects to Layer 1 having 10 neurons using ReLU activation and 0.0 ratio of DropOut.\n",
      "Layer 1 with 10 neurons connects to Layer 2 having 3 neurons using Softmax activation.\n",
      "The loss is CrossEntropy for a classification task.\n",
      "L1 strength is 1e-05 and L2 strength is 0.0003.\n",
      "\n"
     ]
    }
   ],
   "source": [
    "# 2.a) Parámetros de red neuronal\n",
    "net_params = NetworkParameters(units_layers=[4, 10, 3], dropout_ratios=[0.0, 0.0],\n",
    "                               activation=['ReLU', 'Softplus'], strength_l1=1e-5, strength_l2=3e-4,\n",
    "                               classification=True, seed=123)\n",
    "\n",
    "# 2.b) Parámetros de optimización\n",
    "local_stops = [criterion['MaxIterations'](10),\n",
    "               criterion['AchieveTolerance'](0.95, key='hits')]\n",
    "\n",
    "global_stops = [criterion['MaxIterations'](20),\n",
    "                criterion['AchieveTolerance'](0.95, key='hits')]\n",
    "\n",
    "options = {'step-rate': 1.0, 'decay': 0.99, 'momentum': 0.7, 'offset': 1e-8}\n",
    "\n",
    "optimizer_params = OptimizerParameters(algorithm='Adadelta', stops=local_stops, options=options,\n",
    "                                       merge_criter='w_avg', merge_goal='cost')\n",
    "\n",
    "logger.info(\"Optimizacion utilizada: %s\", os.linesep+str(optimizer_params))\n",
    "logger.info(\"Configuracion usada: %s\", os.linesep+str(net_params))"
   ]
  },
  {
   "cell_type": "markdown",
   "metadata": {},
   "source": [
    "<h2><center> #-- 3) Construcción y ajuste de red neuronal --# </center></h2>"
   ]
  },
  {
   "cell_type": "code",
   "execution_count": 5,
   "metadata": {
    "collapsed": false
   },
   "outputs": [
    {
     "name": "stderr",
     "output_type": "stream",
     "text": [
      "2017-03-04 19:31:54,347 - learninspy-ejemplo_iris - INFO - Entrenando red neuronal ...\n",
      "2017-03-04 19:32:02,495 - learninspy.core.model - INFO - Epoca 1 realizada en   7.8218s. Hits en train: 0.46780303030. Hits en valid: 0.46666666667\n",
      "2017-03-04 19:32:03,142 - learninspy.core.model - INFO - Epoca 2 realizada en   0.6115s. Hits en train: 0.85402632840. Hits en valid: 0.70654310587\n",
      "2017-03-04 19:32:03,591 - learninspy.core.model - INFO - Epoca 3 realizada en   0.4229s. Hits en train: 0.85294987169. Hits en valid: 0.70654310587\n",
      "2017-03-04 19:32:04,057 - learninspy.core.model - INFO - Epoca 4 realizada en   0.4347s. Hits en train: 0.86449281854. Hits en valid: 0.79047619048\n",
      "2017-03-04 19:32:04,490 - learninspy.core.model - INFO - Epoca 5 realizada en   0.4065s. Hits en train: 0.84181310718. Hits en valid: 0.70654310587\n",
      "2017-03-04 19:32:04,957 - learninspy.core.model - INFO - Epoca 6 realizada en   0.4406s. Hits en train: 0.86088989814. Hits en valid: 0.77142857143\n",
      "2017-03-04 19:32:05,345 - learninspy.core.model - INFO - Epoca 7 realizada en   0.3554s. Hits en train: 0.89904071392. Hits en valid: 0.77142857143\n",
      "2017-03-04 19:32:05,742 - learninspy.core.model - INFO - Epoca 8 realizada en   0.3646s. Hits en train: 0.90999507151. Hits en valid: 0.89531680441\n",
      "2017-03-04 19:32:06,081 - learninspy.core.model - INFO - Epoca 9 realizada en   0.3091s. Hits en train: 0.93327454439. Hits en valid: 0.88571428571\n",
      "2017-03-04 19:32:06,498 - learninspy.core.model - INFO - Epoca 10 realizada en   0.3907s. Hits en train: 0.94557411461. Hits en valid: 0.89531680441\n",
      "2017-03-04 19:32:06,835 - learninspy.core.model - INFO - Epoca 11 realizada en   0.3041s. Hits en train: 0.94557411461. Hits en valid: 0.89531680441\n",
      "2017-03-04 19:32:07,175 - learninspy.core.model - INFO - Epoca 12 realizada en   0.3136s. Hits en train: 0.95525802015. Hits en valid: 0.89531680441\n",
      "2017-03-04 19:32:07,536 - learninspy.core.model - INFO - Epoca 13 realizada en   0.3298s. Hits en train: 0.94894486045. Hits en valid: 0.94566813510\n",
      "2017-03-04 19:32:07,893 - learninspy.core.model - INFO - Epoca 14 realizada en   0.3301s. Hits en train: 0.94894486045. Hits en valid: 1.00000000000\n",
      "2017-03-04 19:32:07,934 - learninspy.core.model - INFO - Ajuste total realizado en  12.8354s. Hits en train: 0.94894486045. Hits en valid: 1.00000000000\n"
     ]
    }
   ],
   "source": [
    "neural_net = NeuralNetwork(net_params)\n",
    "\n",
    "logger.info(\"Entrenando red neuronal ...\")\n",
    "hits_valid = neural_net.fit(train, valid, valid_iters=1, mini_batch=10, parallelism=4, stops=global_stops,\n",
    "                            optimizer_params=optimizer_params, keep_best=True, measure='F-measure', reproducible=True)"
   ]
  },
  {
   "cell_type": "markdown",
   "metadata": {},
   "source": [
    "<h2><center> #-- 4) Presentación de resultados --# </center></h2>"
   ]
  },
  {
   "cell_type": "code",
   "execution_count": 6,
   "metadata": {
    "collapsed": false
   },
   "outputs": [
    {
     "name": "stderr",
     "output_type": "stream",
     "text": [
      "2017-03-04 19:32:59,214 - learninspy-ejemplo_iris - INFO - Metricas de evaluación en clasificacion: \n",
      "2017-03-04 19:32:59,216 - learninspy-ejemplo_iris - INFO - Accuracy: 1.00000000000\n",
      "2017-03-04 19:32:59,217 - learninspy-ejemplo_iris - INFO - F1-Score: 1.00000000000\n",
      "2017-03-04 19:32:59,218 - learninspy-ejemplo_iris - INFO - Precision: 1.00000000000\n",
      "2017-03-04 19:32:59,219 - learninspy-ejemplo_iris - INFO - Recall: 1.00000000000\n"
     ]
    }
   ],
   "source": [
    "acc_test, predict = neural_net.evaluate(test, predictions=True, measure='Accuracy')\n",
    "\n",
    "# Información de la clasificación\n",
    "logger.info(\"Metricas de evaluación en clasificacion: \")\n",
    "labels = map(lambda lp: float(lp.label), test.collect())\n",
    "metrics = ClassificationMetrics(zip(predict, labels), 3)\n",
    "logger.info(\"Accuracy: %12.11f\", metrics.accuracy())\n",
    "logger.info(\"F1-Score: %12.11f\", metrics.f_measure(beta=1))\n",
    "logger.info(\"Precision: %12.11f\", metrics.precision())\n",
    "logger.info(\"Recall: %12.11f\", metrics.recall())\n",
    "#logger.info(\"Matriz de confusion: %s\", os.linesep+str(metrics.confusion_matrix()))"
   ]
  },
  {
   "cell_type": "code",
   "execution_count": 7,
   "metadata": {
    "collapsed": false
   },
   "outputs": [
    {
     "data": {
      "image/png": "[encoded data removed]",
      "text/plain": [
       "<matplotlib.figure.Figure at 0x7f8c3fc1ac50>"
      ]
     },
     "metadata": {},
     "output_type": "display_data"
    },
    {
     "data": {
      "image/png": "[encoded data removed]",
      "text/plain": [
       "<matplotlib.figure.Figure at 0x7f8c3fc1afd0>"
      ]
     },
     "metadata": {},
     "output_type": "display_data"
    }
   ],
   "source": [
    "# Ploteo del ajuste de la red\n",
    "plot_fitting(neural_net)\n",
    "\n",
    "# Matriz de confusión\n",
    "plot_confusion_matrix(metrics.confusion_matrix(), show=True)"
   ]
  },
  {
   "cell_type": "code",
   "execution_count": 8,
   "metadata": {
    "collapsed": false
   },
   "outputs": [
    {
     "name": "stdout",
     "output_type": "stream",
     "text": [
      "Modelo NeuralNetwork:\n",
      "Layer 0 with 4 neurons connects to Layer 1 having 10 neurons using ReLU activation and 0.0 ratio of DropOut.\n",
      "Layer 1 with 10 neurons connects to Layer 2 having 3 neurons using Softmax activation.\n",
      "The loss is CrossEntropy for a classification task.\n",
      "L1 strength is 1e-05 and L2 strength is 0.0003.\n",
      "\n",
      "Optimización:\n",
      "The algorithm used is Adadelta with the next parameters:\n",
      "offset: 1e-08\n",
      "step-rate: 1.0\n",
      "momentum: 0.7\n",
      "decay: 0.99\n",
      "The stop criteria used for optimization is: \n",
      "Stop at a maximum of 10 iterations.\n",
      "Stop when a tolerance of 0.95 is achieved/exceeded in hits.\n",
      "\n"
     ]
    }
   ],
   "source": [
    "# Guardar modelo en formato binario\n",
    "neural_net.save(filename='/tmp/ejemplo_iris.lea')\n",
    "\n",
    "print \"Modelo NeuralNetwork:\"\n",
    "print str(neural_net.params)\n",
    "print \"Optimización:\"\n",
    "print str(optimizer_params)"
   ]
  },
  {
   "cell_type": "code",
   "execution_count": null,
   "metadata": {
    "collapsed": true
   },
   "outputs": [],
   "source": []
  }
 ],
 "metadata": {
  "kernelspec": {
   "display_name": "Python 2",
   "language": "python",
   "name": "python2"
  },
  "language_info": {
   "codemirror_mode": {
    "name": "ipython",
    "version": 2
   },
   "file_extension": ".py",
   "mimetype": "text/x-python",
   "name": "python",
   "nbconvert_exporter": "python",
   "pygments_lexer": "ipython2",
   "version": "2.7.9"
  }
 },
 "nbformat": 4,
 "nbformat_minor": 0
}
