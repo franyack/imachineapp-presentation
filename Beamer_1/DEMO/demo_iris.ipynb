{
 "metadata": {
  "name": "",
  "signature": "sha256:89091ec742952d7504ed143c122cbb9729849bc4a24fe2c45a307bd4705c64e7"
 },
 "nbformat": 3,
 "nbformat_minor": 0,
 "worksheets": [
  {
   "cells": [
    {
     "cell_type": "markdown",
     "metadata": {},
     "source": [
      "**Learninspy**\n",
      "============\n",
      "<img style=\"display: inline;\" src=\"docs/img/Learninspy-logo_grande2.png\" width=\"300\" />\n",
      "\n",
      "*Deep Learning in Spark, with Python*"
     ]
    },
    {
     "cell_type": "markdown",
     "metadata": {},
     "source": [
      "###Importar librerias a utilizar"
     ]
    },
    {
     "cell_type": "code",
     "collapsed": false,
     "input": [
      "# Dependencias externas\n",
      "from sklearn import datasets\n",
      "\n",
      "# Librerias de Python\n",
      "import time\n",
      "\n",
      "# Librerias internas\n",
      "import dnn.model as mod\n",
      "from dnn.optimization import OptimizerParameters\n",
      "from dnn.stops import criterion\n",
      "from utils.data import StandardScaler, LabeledDataSet\n",
      "from dnn.evaluation import ClassificationMetrics"
     ],
     "language": "python",
     "metadata": {},
     "outputs": [
      {
       "ename": "ImportError",
       "evalue": "No module named learninspy.context",
       "output_type": "pyerr",
       "traceback": [
        "\u001b[0;31m---------------------------------------------------------------------------\u001b[0m\n\u001b[0;31mImportError\u001b[0m                               Traceback (most recent call last)",
        "\u001b[0;32m<ipython-input-1-39d095e7c979>\u001b[0m in \u001b[0;36m<module>\u001b[0;34m()\u001b[0m\n\u001b[1;32m      6\u001b[0m \u001b[0;34m\u001b[0m\u001b[0m\n\u001b[1;32m      7\u001b[0m \u001b[0;31m# Librerias internas\u001b[0m\u001b[0;34m\u001b[0m\u001b[0;34m\u001b[0m\u001b[0m\n\u001b[0;32m----> 8\u001b[0;31m \u001b[0;32mimport\u001b[0m \u001b[0mdnn\u001b[0m\u001b[0;34m.\u001b[0m\u001b[0mmodel\u001b[0m \u001b[0;32mas\u001b[0m \u001b[0mmod\u001b[0m\u001b[0;34m\u001b[0m\u001b[0m\n\u001b[0m\u001b[1;32m      9\u001b[0m \u001b[0;32mfrom\u001b[0m \u001b[0mdnn\u001b[0m\u001b[0;34m.\u001b[0m\u001b[0moptimization\u001b[0m \u001b[0;32mimport\u001b[0m \u001b[0mOptimizerParameters\u001b[0m\u001b[0;34m\u001b[0m\u001b[0m\n\u001b[1;32m     10\u001b[0m \u001b[0;32mfrom\u001b[0m \u001b[0mdnn\u001b[0m\u001b[0;34m.\u001b[0m\u001b[0mstops\u001b[0m \u001b[0;32mimport\u001b[0m \u001b[0mcriterion\u001b[0m\u001b[0;34m\u001b[0m\u001b[0m\n",
        "\u001b[0;32m/home/leeandro04/work/learninspy/learninspy/dnn/model.py\u001b[0m in \u001b[0;36m<module>\u001b[0;34m()\u001b[0m\n\u001b[1;32m      6\u001b[0m \u001b[0;34m\u001b[0m\u001b[0m\n\u001b[1;32m      7\u001b[0m \u001b[0;31m# Dependencias internas\u001b[0m\u001b[0;34m\u001b[0m\u001b[0;34m\u001b[0m\u001b[0m\n\u001b[0;32m----> 8\u001b[0;31m \u001b[0;32mfrom\u001b[0m \u001b[0mdnn\u001b[0m \u001b[0;32mimport\u001b[0m \u001b[0mactivations\u001b[0m \u001b[0;32mas\u001b[0m \u001b[0mact\u001b[0m\u001b[0;34m,\u001b[0m \u001b[0mchecks\u001b[0m\u001b[0;34m,\u001b[0m \u001b[0mloss\u001b[0m\u001b[0;34m,\u001b[0m \u001b[0moptimization\u001b[0m \u001b[0;32mas\u001b[0m \u001b[0mopt\u001b[0m\u001b[0;34m\u001b[0m\u001b[0m\n\u001b[0m\u001b[1;32m      9\u001b[0m \u001b[0;32mfrom\u001b[0m \u001b[0mdnn\u001b[0m\u001b[0;34m.\u001b[0m\u001b[0mstops\u001b[0m \u001b[0;32mimport\u001b[0m \u001b[0mcriterion\u001b[0m\u001b[0;34m\u001b[0m\u001b[0m\n\u001b[1;32m     10\u001b[0m \u001b[0;32mfrom\u001b[0m \u001b[0mdnn\u001b[0m\u001b[0;34m.\u001b[0m\u001b[0mneurons\u001b[0m \u001b[0;32mimport\u001b[0m \u001b[0mDistributedNeurons\u001b[0m\u001b[0;34m,\u001b[0m \u001b[0mLocalNeurons\u001b[0m\u001b[0;34m\u001b[0m\u001b[0m\n",
        "\u001b[0;32m/home/leeandro04/work/learninspy/learninspy/dnn/checks.py\u001b[0m in \u001b[0;36m<module>\u001b[0;34m()\u001b[0m\n\u001b[0;32m----> 1\u001b[0;31m \u001b[0;32mfrom\u001b[0m \u001b[0mdnn\u001b[0m \u001b[0;32mimport\u001b[0m \u001b[0mloss\u001b[0m\u001b[0;34m\u001b[0m\u001b[0m\n\u001b[0m\u001b[1;32m      2\u001b[0m \u001b[0;34m\u001b[0m\u001b[0m\n\u001b[1;32m      3\u001b[0m \u001b[0m__author__\u001b[0m \u001b[0;34m=\u001b[0m \u001b[0;34m'leferrad'\u001b[0m\u001b[0;34m\u001b[0m\u001b[0m\n\u001b[1;32m      4\u001b[0m \u001b[0;34m\u001b[0m\u001b[0m\n\u001b[1;32m      5\u001b[0m \u001b[0;32mimport\u001b[0m \u001b[0mnumpy\u001b[0m \u001b[0;32mas\u001b[0m \u001b[0mnp\u001b[0m\u001b[0;34m\u001b[0m\u001b[0m\n",
        "\u001b[0;32m/home/leeandro04/work/learninspy/learninspy/dnn/loss.py\u001b[0m in \u001b[0;36m<module>\u001b[0;34m()\u001b[0m\n\u001b[1;32m      5\u001b[0m \u001b[0;32mimport\u001b[0m \u001b[0mnumpy\u001b[0m \u001b[0;32mas\u001b[0m \u001b[0mnp\u001b[0m\u001b[0;34m\u001b[0m\u001b[0m\n\u001b[1;32m      6\u001b[0m \u001b[0;34m\u001b[0m\u001b[0m\n\u001b[0;32m----> 7\u001b[0;31m \u001b[0;32mfrom\u001b[0m \u001b[0mutils\u001b[0m\u001b[0;34m.\u001b[0m\u001b[0mdata\u001b[0m \u001b[0;32mimport\u001b[0m \u001b[0mlabel_to_vector\u001b[0m\u001b[0;34m\u001b[0m\u001b[0m\n\u001b[0m\u001b[1;32m      8\u001b[0m \u001b[0;34m\u001b[0m\u001b[0m\n\u001b[1;32m      9\u001b[0m \u001b[0;34m\u001b[0m\u001b[0m\n",
        "\u001b[0;32m/home/leeandro04/work/learninspy/learninspy/utils/data.py\u001b[0m in \u001b[0;36m<module>\u001b[0;34m()\u001b[0m\n\u001b[1;32m     11\u001b[0m \u001b[0;34m\u001b[0m\u001b[0m\n\u001b[1;32m     12\u001b[0m \u001b[0;31m# Librerias internas\u001b[0m\u001b[0;34m\u001b[0m\u001b[0;34m\u001b[0m\u001b[0m\n\u001b[0;32m---> 13\u001b[0;31m \u001b[0;32mimport\u001b[0m \u001b[0mutils\u001b[0m\u001b[0;34m.\u001b[0m\u001b[0mfileio\u001b[0m \u001b[0;32mas\u001b[0m \u001b[0mfileio\u001b[0m\u001b[0;34m\u001b[0m\u001b[0m\n\u001b[0m\u001b[1;32m     14\u001b[0m \u001b[0;32mfrom\u001b[0m \u001b[0mcontext\u001b[0m \u001b[0;32mimport\u001b[0m \u001b[0msc\u001b[0m\u001b[0;34m\u001b[0m\u001b[0m\n\u001b[1;32m     15\u001b[0m \u001b[0;32mfrom\u001b[0m \u001b[0mcommon\u001b[0m\u001b[0;34m.\u001b[0m\u001b[0masserts\u001b[0m \u001b[0;32mimport\u001b[0m \u001b[0massert_features_label\u001b[0m\u001b[0;34m\u001b[0m\u001b[0m\n",
        "\u001b[0;32m/home/leeandro04/work/learninspy/learninspy/utils/fileio.py\u001b[0m in \u001b[0;36m<module>\u001b[0;34m()\u001b[0m\n\u001b[1;32m      5\u001b[0m \u001b[0;34m\u001b[0m\u001b[0m\n\u001b[1;32m      6\u001b[0m \u001b[0;31m# Librerias internas\u001b[0m\u001b[0;34m\u001b[0m\u001b[0;34m\u001b[0m\u001b[0m\n\u001b[0;32m----> 7\u001b[0;31m \u001b[0;32mfrom\u001b[0m \u001b[0mlearninspy\u001b[0m\u001b[0;34m.\u001b[0m\u001b[0mcontext\u001b[0m \u001b[0;32mimport\u001b[0m \u001b[0msc\u001b[0m\u001b[0;34m\u001b[0m\u001b[0m\n\u001b[0m\u001b[1;32m      8\u001b[0m \u001b[0;34m\u001b[0m\u001b[0m\n\u001b[1;32m      9\u001b[0m \u001b[0mtext_extensions\u001b[0m \u001b[0;34m=\u001b[0m \u001b[0;34m[\u001b[0m\u001b[0;34m'.dat'\u001b[0m\u001b[0;34m,\u001b[0m \u001b[0;34m'.txt'\u001b[0m\u001b[0;34m,\u001b[0m \u001b[0;34m'.csv'\u001b[0m\u001b[0;34m]\u001b[0m\u001b[0;34m\u001b[0m\u001b[0m\n",
        "\u001b[0;31mImportError\u001b[0m: No module named learninspy.context"
       ]
      }
     ],
     "prompt_number": 1
    },
    {
     "cell_type": "markdown",
     "metadata": {},
     "source": [
      "###Carga de datos (ejemplo con Iris)"
     ]
    },
    {
     "cell_type": "code",
     "collapsed": false,
     "input": [
      "data = datasets.load_iris()\n",
      "features = data.data\n",
      "labels = data.target\n",
      "print \"Size de data: \", features.shape"
     ],
     "language": "python",
     "metadata": {},
     "outputs": [
      {
       "output_type": "stream",
       "stream": "stdout",
       "text": [
        "Size de data:  (150, 4)\n"
       ]
      }
     ],
     "prompt_number": 8
    },
    {
     "cell_type": "markdown",
     "metadata": {},
     "source": [
      "###Construcci\u00f3n de Base de Datos con etiquetas"
     ]
    },
    {
     "cell_type": "code",
     "collapsed": false,
     "input": [
      "# Uso clase hecha para manejo de DataSet (almacena en RDD)\n",
      "dataset = LabeledDataSet(zip(labels, features))\n",
      "train, valid, test = dataset.split_data([.7, .2, .1])  # Particiono conjuntos\n",
      "# Standarize data\n",
      "std = StandardScaler()\n",
      "std.fit(train)\n",
      "train = std.transform(train)\n",
      "valid = std.transform(valid)\n",
      "test = std.transform(test)\n",
      "# Collect de RDD en list\n",
      "train = train.collect()\n",
      "valid = valid.collect()\n",
      "test = test.collect()"
     ],
     "language": "python",
     "metadata": {},
     "outputs": [],
     "prompt_number": 9
    },
    {
     "cell_type": "heading",
     "level": 3,
     "metadata": {},
     "source": [
      "Selecci\u00f3n de par\u00e1metros para la construcci\u00f3n de red neuronal"
     ]
    },
    {
     "cell_type": "code",
     "collapsed": false,
     "input": [
      "net_params = mod.DeepLearningParams(units_layers=[4, 10, 5, 3], activation='Softplus',\n",
      "                                    dropout_ratios=[0.5, 0.5, 0.0], classification=True)\n",
      "\n",
      "local_stops = [criterion['MaxIterations'](50),\n",
      "               criterion['AchieveTolerance'](0.99, key='hits')]\n",
      "\n",
      "global_stops = [criterion['MaxIterations'](5),\n",
      "                criterion['AchieveTolerance'](0.99, key='hits')]\n",
      "\n",
      "opt_params = OptimizerParameters(algorithm='Adadelta', stops=local_stops, merge_criter='w_avg')\n",
      "\n",
      "\n",
      "neural_net = mod.NeuralNetwork(net_params)"
     ],
     "language": "python",
     "metadata": {},
     "outputs": [],
     "prompt_number": 4
    },
    {
     "cell_type": "markdown",
     "metadata": {},
     "source": [
      "###Fit de red neuronal\n",
      "*Notar que puede ejecutarse varias veces para dar varios ajustes*"
     ]
    },
    {
     "cell_type": "code",
     "collapsed": false,
     "input": [
      "print \"Entrenando red neuronal ...\"\n",
      "t1 = time.time()\n",
      "hits_valid = neural_net.fit(train, valid, mini_batch=50, parallelism=4, stops=global_stops,\n",
      "                            optimizer_params=opt_params, keep_best=True)\n",
      "hits_test, predict = neural_net.evaluate(test, predictions=True)\n",
      "t1f = time.time() - t1"
     ],
     "language": "python",
     "metadata": {},
     "outputs": [
      {
       "output_type": "stream",
       "stream": "stdout",
       "text": [
        "Entrenando red neuronal ...\n",
        "Epoca "
       ]
      },
      {
       "output_type": "stream",
       "stream": "stdout",
       "text": [
        " 1 . Hits en train:  0.735226582878 . Hits en valid:  0.794392523364\n",
        "Epoca "
       ]
      },
      {
       "output_type": "stream",
       "stream": "stdout",
       "text": [
        " 2 . Hits en train:  0.797742759205 . Hits en valid:  0.8619201726\n",
        "Epoca "
       ]
      },
      {
       "output_type": "stream",
       "stream": "stdout",
       "text": [
        " 3 . Hits en train:  0.89120610439 . Hits en valid:  0.929465301479\n",
        "Epoca "
       ]
      },
      {
       "output_type": "stream",
       "stream": "stdout",
       "text": [
        " 4 . Hits en train:  0.912309471176 . Hits en valid:  0.964138741917\n",
        "Epoca "
       ]
      },
      {
       "output_type": "stream",
       "stream": "stdout",
       "text": [
        " 5 . Hits en train:  0.90853660028 . Hits en valid:  0.92673992674\n"
       ]
      }
     ],
     "prompt_number": 5
    },
    {
     "cell_type": "markdown",
     "metadata": {},
     "source": [
      "###Resultados"
     ]
    },
    {
     "cell_type": "code",
     "collapsed": false,
     "input": [
      "print 'Tiempo: ', t1f, 'Tasa de acierto final: ', hits_test\n",
      "\n",
      "print \"Metricas: \"\n",
      "labels = map(lambda lp: float(lp.label), test)\n",
      "metrics = ClassificationMetrics(zip(predict, labels), 3)\n",
      "print \"Precision: \", metrics.precision()\n",
      "print \"Recall: \", metrics.recall()\n",
      "print \"Confusion: \"\n",
      "print metrics.confusion_matrix()"
     ],
     "language": "python",
     "metadata": {},
     "outputs": [
      {
       "output_type": "stream",
       "stream": "stdout",
       "text": [
        "Tiempo:  91.1185879707 Tasa de acierto final:  1.0\n",
        "Metricas: \n",
        "Precision:  1.0\n",
        "Recall:  1.0\n",
        "Confusion: \n",
        "[[4 0 0]\n",
        " [0 6 0]\n",
        " [0 0 2]]\n"
       ]
      }
     ],
     "prompt_number": 6
    },
    {
     "cell_type": "markdown",
     "metadata": {},
     "source": [
      "###Gr\u00e1ficas"
     ]
    },
    {
     "cell_type": "code",
     "collapsed": false,
     "input": [
      "import matplotlib.pyplot as plt\n",
      "from utils.plots import plot_confusion_matrix, plot_activations, plot_matrix, plot_neurons\n",
      "% matplotlib inline\n",
      "\n",
      "plot_confusion_matrix(metrics.confusion_matrix())\n",
      "plot_activations(net_params)\n",
      "plot_neurons(neural_net)"
     ],
     "language": "python",
     "metadata": {},
     "outputs": [
      {
       "metadata": {},
       "output_type": "display_data",
       "png": "[encoded data removed]",
       "text": [
        "<matplotlib.figure.Figure at 0x7fe2dbc2a390>"
       ]
      },
      {
       "metadata": {},
       "output_type": "display_data",
       "png": "[encoded data removed]",
       "text": [
        "<matplotlib.figure.Figure at 0x7fe2ce42add0>"
       ]
      },
      {
       "metadata": {},
       "output_type": "display_data",
       "png": "[encoded data removed]",
       "text": [
        "<matplotlib.figure.Figure at 0x7fe2ce1dd910>"
       ]
      },
      {
       "metadata": {},
       "output_type": "display_data",
       "png": "[encoded data removed]",
       "text": [
        "<matplotlib.figure.Figure at 0x7fe2ce0d8050>"
       ]
      }
     ],
     "prompt_number": 7
    },
    {
     "cell_type": "code",
     "collapsed": false,
     "input": [],
     "language": "python",
     "metadata": {},
     "outputs": [],
     "prompt_number": 7
    }
   ],
   "metadata": {}
  }
 ]
}